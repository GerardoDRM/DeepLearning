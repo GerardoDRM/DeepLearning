{
 "cells": [
  {
   "cell_type": "code",
   "execution_count": 1,
   "metadata": {
    "collapsed": true
   },
   "outputs": [],
   "source": [
    "# On this example we are going to measure the relationship \n",
    "# between student test scores and the amount of hours studied. "
   ]
  },
  {
   "cell_type": "code",
   "execution_count": 4,
   "metadata": {
    "collapsed": false
   },
   "outputs": [],
   "source": [
    "import pandas as pd\n",
    "import numpy as np"
   ]
  },
  {
   "cell_type": "code",
   "execution_count": 9,
   "metadata": {
    "collapsed": false
   },
   "outputs": [],
   "source": [
    "# Load our dataset \n",
    "df = pd.read_csv('students.csv')\n",
    "x_values = df.hours\n",
    "y_values = df.grades"
   ]
  },
  {
   "cell_type": "code",
   "execution_count": 10,
   "metadata": {
    "collapsed": true
   },
   "outputs": [],
   "source": [
    "# Define hyperparams \n",
    "learning_rate = 0.0001\n",
    "# y = mx + b \n",
    "initial_b = 0\n",
    "initial_m = 0\n",
    "epochs = 1000"
   ]
  },
  {
   "cell_type": "code",
   "execution_count": 27,
   "metadata": {
    "collapsed": true
   },
   "outputs": [],
   "source": [
    "# Define Step gradient \n",
    "def step_gradient(b, m, x, y, lr):\n",
    "    b_gradient = 0\n",
    "    m_gradient = 0\n",
    "    for x_val, y_val in zip(x, y):\n",
    "        # Calculate partial derivate\n",
    "        b_gradient += -(2.0/len(y)) * (y_val - ((m * x_val) + b))\n",
    "        m_gradient += -(2.0/len(y)) * x * (y_val - ((m * x_val) + b))\n",
    "    new_b = b - (lr * b_gradient)\n",
    "    new_m = m - (lr * m_gradient)\n",
    "    return [new_b, new_m]"
   ]
  },
  {
   "cell_type": "code",
   "execution_count": 28,
   "metadata": {
    "collapsed": true
   },
   "outputs": [],
   "source": [
    "# Define gradient descent\n",
    "def gradient_descent_runner(x, y, b_i, m_i, lr, epochs):\n",
    "    b = b_i\n",
    "    m = m_i\n",
    "    for i in range(epochs):\n",
    "        b, m = step_gradient(b, m, x, y, lr)\n",
    "    return [b,m]"
   ]
  },
  {
   "cell_type": "code",
   "execution_count": 29,
   "metadata": {
    "collapsed": false
   },
   "outputs": [],
   "source": [
    "def mse(b, m, x_val, y_val):\n",
    "    error = sum((y - (m * x)) ** 2 for x, y in zip(x_val, y_val))\n",
    "    return error / float(len(y_val))"
   ]
  },
  {
   "cell_type": "code",
   "execution_count": 31,
   "metadata": {
    "collapsed": false
   },
   "outputs": [],
   "source": [
    "[b, m] = gradient_descent_runner(x_values, y_values, initial_b, initial_m, learning_rate, epochs)\n",
    "# print(\"After {0} iterations b = {1}, m = {2}, error = {3}\".format(epochs, b, m, mse(b, m, x_values, y_values)))\n"
   ]
  },
  {
   "cell_type": "code",
   "execution_count": null,
   "metadata": {
    "collapsed": true
   },
   "outputs": [],
   "source": []
  }
 ],
 "metadata": {
  "kernelspec": {
   "display_name": "Python 3",
   "language": "python",
   "name": "python3"
  },
  "language_info": {
   "codemirror_mode": {
    "name": "ipython",
    "version": 3
   },
   "file_extension": ".py",
   "mimetype": "text/x-python",
   "name": "python",
   "nbconvert_exporter": "python",
   "pygments_lexer": "ipython3",
   "version": "3.5.5"
  }
 },
 "nbformat": 4,
 "nbformat_minor": 2
}
