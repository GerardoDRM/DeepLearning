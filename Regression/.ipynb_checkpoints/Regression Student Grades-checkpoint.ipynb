{
 "cells": [
  {
   "cell_type": "code",
   "execution_count": 1,
   "metadata": {
    "collapsed": true
   },
   "outputs": [],
   "source": [
    "# On this example we are going to measure the relationship \n",
    "# between student test scores and the amount of hours studied. "
   ]
  },
  {
   "cell_type": "code",
   "execution_count": 4,
   "metadata": {
    "collapsed": false
   },
   "outputs": [],
   "source": [
    "import pandas as pd\n",
    "import numpy as np"
   ]
  },
  {
   "cell_type": "code",
   "execution_count": 9,
   "metadata": {
    "collapsed": false
   },
   "outputs": [],
   "source": [
    "# Load our dataset \n",
    "df = pd.read_csv('students.csv')\n",
    "x_values = df.hours\n",
    "y_values = df.grades"
   ]
  },
  {
   "cell_type": "code",
   "execution_count": 10,
   "metadata": {
    "collapsed": true
   },
   "outputs": [],
   "source": [
    "# Define hyperparams \n",
    "learning_rate = 0.0001\n",
    "# y = mx + b \n",
    "initial_b = 0\n",
    "initial_m = 0\n",
    "epochs = 1000"
   ]
  },
  {
   "cell_type": "code",
   "execution_count": 27,
   "metadata": {
    "collapsed": true
   },
   "outputs": [],
   "source": [
    "# Define Step gradient \n",
    "def step_gradient(b, m, x, y, lr):\n",
    "    b_gradient = 0\n",
    "    m_gradient = 0\n",
    "    for x_val, y_val in zip(x, y):\n",
    "        # Calculate partial derivate\n",
    "        b_gradient += -(2.0/len(y)) * (y_val - ((m * x_val) + b))\n",
    "        m_gradient += -(2.0/len(y)) * x * (y_val - ((m * x_val) + b))\n",
    "    new_b = b - (lr * b_gradient)\n",
    "    new_m = m - (lr * m_gradient)\n",
    "    return [new_b, new_m]"
   ]
  },
  {
   "cell_type": "code",
   "execution_count": 28,
   "metadata": {
    "collapsed": true
   },
   "outputs": [],
   "source": [
    "# Define gradient descent\n",
    "def gradient_descent_runner(x, y, b_i, m_i, lr, epochs):\n",
    "    b = b_i\n",
    "    m = m_i\n",
    "    for i in range(epochs):\n",
    "        b, m = step_gradient(b, m, x, y, lr)\n",
    "    return [b,m]"
   ]
  },
  {
   "cell_type": "code",
   "execution_count": 29,
   "metadata": {
    "collapsed": false
   },
   "outputs": [],
   "source": [
    "def mse(b, m, x_val, y_val):\n",
    "    error = sum((y - (m * x)) ** 2 for x, y in zip(x_val, y_val))\n",
    "    return error / float(len(y_val))"
   ]
  },
  {
   "cell_type": "code",
   "execution_count": 30,
   "metadata": {
    "collapsed": false
   },
   "outputs": [
    {
     "name": "stdout",
     "output_type": "stream",
     "text": [
      "After 1000 iterations b = 0     0.045680\n",
      "1     0.027797\n",
      "2     0.024137\n",
      "3     0.031279\n",
      "4     0.024830\n",
      "5     0.026932\n",
      "6     0.028443\n",
      "7     0.037784\n",
      "8     0.030870\n",
      "9     0.028260\n",
      "10    0.032695\n",
      "11    0.027324\n",
      "12    0.033624\n",
      "13    0.025532\n",
      "14    0.026180\n",
      "15    0.030334\n",
      "16    0.033230\n",
      "17    0.024630\n",
      "18    0.032552\n",
      "19    0.038253\n",
      "20    0.022438\n",
      "21    0.022704\n",
      "22    0.031276\n",
      "23    0.035716\n",
      "24    0.028644\n",
      "25    0.025015\n",
      "26    0.025914\n",
      "27    0.023346\n",
      "28    0.031773\n",
      "29    0.029374\n",
      "        ...   \n",
      "70    0.047002\n",
      "71    0.027675\n",
      "72    0.031811\n",
      "73    0.034447\n",
      "74    0.021113\n",
      "75    0.033375\n",
      "76    0.025826\n",
      "77    0.040207\n",
      "78    0.026612\n",
      "79    0.038118\n",
      "80    0.026100\n",
      "81    0.026115\n",
      "82    0.043246\n",
      "83    0.025151\n",
      "84    0.025699\n",
      "85    0.027359\n",
      "86    0.029068\n",
      "87    0.029534\n",
      "88    0.033588\n",
      "89    0.039069\n",
      "90    0.045073\n",
      "91    0.027660\n",
      "92    0.021598\n",
      "93    0.032121\n",
      "94    0.021739\n",
      "95    0.029683\n",
      "96    0.030159\n",
      "97    0.029677\n",
      "98    0.030842\n",
      "99    0.059074\n",
      "Name: hours, Length: 100, dtype: float64, m = 0     1.484719\n",
      "1     1.485084\n",
      "2     1.485159\n",
      "3     1.485013\n",
      "4     1.485145\n",
      "5     1.485102\n",
      "6     1.485071\n",
      "7     1.484880\n",
      "8     1.485021\n",
      "9     1.485075\n",
      "10    1.484984\n",
      "11    1.485094\n",
      "12    1.484965\n",
      "13    1.485130\n",
      "14    1.485117\n",
      "15    1.485032\n",
      "16    1.484973\n",
      "17    1.485149\n",
      "18    1.484987\n",
      "19    1.484871\n",
      "20    1.485194\n",
      "21    1.485188\n",
      "22    1.485013\n",
      "23    1.484922\n",
      "24    1.485067\n",
      "25    1.485141\n",
      "26    1.485123\n",
      "27    1.485175\n",
      "28    1.485003\n",
      "29    1.485052\n",
      "        ...   \n",
      "70    1.484692\n",
      "71    1.485087\n",
      "72    1.485002\n",
      "73    1.484948\n",
      "74    1.485221\n",
      "75    1.484970\n",
      "76    1.485124\n",
      "77    1.484831\n",
      "78    1.485108\n",
      "79    1.484873\n",
      "80    1.485119\n",
      "81    1.485118\n",
      "82    1.484769\n",
      "83    1.485138\n",
      "84    1.485127\n",
      "85    1.485093\n",
      "86    1.485058\n",
      "87    1.485049\n",
      "88    1.484966\n",
      "89    1.484854\n",
      "90    1.484731\n",
      "91    1.485087\n",
      "92    1.485211\n",
      "93    1.484996\n",
      "94    1.485208\n",
      "95    1.485046\n",
      "96    1.485036\n",
      "97    1.485046\n",
      "98    1.485022\n",
      "99    1.484445\n",
      "Name: hours, Length: 100, dtype: float64, error = 0     112.736285\n",
      "1     112.746133\n",
      "2     112.748230\n",
      "3     112.744163\n",
      "4     112.747831\n",
      "5     112.746626\n",
      "6     112.745765\n",
      "7     112.740551\n",
      "8     112.744393\n",
      "9     112.745869\n",
      "10    112.743369\n",
      "11    112.746402\n",
      "12    112.742851\n",
      "13    112.747428\n",
      "14    112.747056\n",
      "15    112.744695\n",
      "16    112.743070\n",
      "17    112.747946\n",
      "18    112.743449\n",
      "19    112.740294\n",
      "20    112.749213\n",
      "21    112.749059\n",
      "22    112.744165\n",
      "23    112.741690\n",
      "24    112.745651\n",
      "25    112.747725\n",
      "26    112.747208\n",
      "27    112.748687\n",
      "28    112.743886\n",
      "29    112.745238\n",
      "         ...    \n",
      "70    112.735583\n",
      "71    112.746202\n",
      "72    112.743864\n",
      "73    112.742393\n",
      "74    112.749984\n",
      "75    112.742989\n",
      "76    112.747259\n",
      "77    112.739228\n",
      "78    112.746809\n",
      "79    112.740368\n",
      "80    112.747102\n",
      "81    112.747093\n",
      "82    112.737586\n",
      "83    112.747646\n",
      "84    112.747331\n",
      "85    112.746382\n",
      "86    112.745411\n",
      "87    112.745147\n",
      "88    112.742871\n",
      "89    112.739848\n",
      "90    112.736608\n",
      "91    112.746211\n",
      "92    112.749701\n",
      "93    112.743690\n",
      "94    112.749619\n",
      "95    112.745063\n",
      "96    112.744794\n",
      "97    112.745066\n",
      "98    112.744409\n",
      "99    112.729344\n",
      "Name: hours, Length: 100, dtype: float64\n"
     ]
    }
   ],
   "source": [
    "[b, m] = gradient_descent_runner(x_values, y_values, initial_b, initial_m, learning_rate, epochs)\n",
    "print(\"After {0} iterations b = {1}, m = {2}, error = {3}\".format(epochs, b, m, mse(b, m, x_values, y_values)))\n"
   ]
  },
  {
   "cell_type": "code",
   "execution_count": null,
   "metadata": {
    "collapsed": true
   },
   "outputs": [],
   "source": []
  }
 ],
 "metadata": {
  "kernelspec": {
   "display_name": "Python 3",
   "language": "python",
   "name": "python3"
  },
  "language_info": {
   "codemirror_mode": {
    "name": "ipython",
    "version": 3
   },
   "file_extension": ".py",
   "mimetype": "text/x-python",
   "name": "python",
   "nbconvert_exporter": "python",
   "pygments_lexer": "ipython3",
   "version": "3.5.5"
  }
 },
 "nbformat": 4,
 "nbformat_minor": 2
}
